{
 "cells": [
  {
   "cell_type": "markdown",
   "metadata": {},
   "source": [
    "# Convolutional Neural Networks with PyTorch\n",
    "\n",
    "\"Deep Learning\" is a general term that usually refers to the use of neural networks with multiple layers that synthesize the way the human brain learns and makes decisions. A convolutional neural network is a kind of neural network that extracts *features* from matrices of numeric values (often images) by convolving multiple filters over the matrix values to apply weights and identify patterns, such as edges, corners, and so on in an image. The numeric representations of these patterns are then passed to a fully-connected neural network layer to map the features to specific classes.\n",
    "\n",
    "There are several commonly used frameworks for creating CNNs. In this notebook, we'll build a simple example CNN using PyTorch.\n",
    "\n",
    "## Import libraries\n",
    "\n",
    "First, let's install and import the PyTorch libraries we'll need."
   ]
  },
  {
   "cell_type": "code",
   "execution_count": null,
   "metadata": {},
   "outputs": [],
   "source": [
    "!pip install torch==1.6.0+cpu torchvision==0.7.0+cpu -f https://download.pytorch.org/whl/torch_stable.html"
   ]
  },
  {
   "cell_type": "code",
   "execution_count": 1,
   "metadata": {
    "scrolled": false,
    "tags": []
   },
   "outputs": [
    {
     "output_type": "stream",
     "name": "stdout",
     "text": [
      "Libraries imported - ready to use PyTorch 1.8.0+cpu\n"
     ]
    }
   ],
   "source": [
    "# Import PyTorch libraries\n",
    "import torch\n",
    "import torchvision\n",
    "import torchvision.transforms as transforms\n",
    "import torch.nn as nn\n",
    "import torch.optim as optim\n",
    "from torch.autograd import Variable\n",
    "import torch.nn.functional as F\n",
    "\n",
    "# Other libraries we'll use\n",
    "import numpy as np\n",
    "import os\n",
    "import matplotlib.pyplot as plt\n",
    "import matplotlib.image as mpimg\n",
    "%matplotlib inline\n",
    "\n",
    "print(\"Libraries imported - ready to use PyTorch\", torch.__version__)"
   ]
  },
  {
   "cell_type": "markdown",
   "metadata": {},
   "source": [
    "## Explore the data\n",
    "\n",
    "In this exercise, you'll train a CNN-based classification model that can classify images of geometric shapes. Let's take a look at the classes of shape the model needs to identify."
   ]
  },
  {
   "cell_type": "code",
   "execution_count": 2,
   "metadata": {},
   "outputs": [
    {
     "output_type": "stream",
     "name": "stdout",
     "text": [
      "3 classes:\n['circle', 'square', 'triangle']\n"
     ]
    },
    {
     "output_type": "display_data",
     "data": {
      "text/plain": "<Figure size 576x864 with 3 Axes>",
      "image/svg+xml": "<?xml version=\"1.0\" encoding=\"utf-8\" standalone=\"no\"?>\r\n<!DOCTYPE svg PUBLIC \"-//W3C//DTD SVG 1.1//EN\"\r\n  \"http://www.w3.org/Graphics/SVG/1.1/DTD/svg11.dtd\">\r\n<!-- Created with matplotlib (https://matplotlib.org/) -->\r\n<svg height=\"160.812243pt\" version=\"1.1\" viewBox=\"0 0 460.8 160.812243\" width=\"460.8pt\" xmlns=\"http://www.w3.org/2000/svg\" xmlns:xlink=\"http://www.w3.org/1999/xlink\">\r\n <metadata>\r\n  <rdf:RDF xmlns:cc=\"http://creativecommons.org/ns#\" xmlns:dc=\"http://purl.org/dc/elements/1.1/\" xmlns:rdf=\"http://www.w3.org/1999/02/22-rdf-syntax-ns#\">\r\n   <cc:Work>\r\n    <dc:type rdf:resource=\"http://purl.org/dc/dcmitype/StillImage\"/>\r\n    <dc:date>2021-03-23T09:42:33.423601</dc:date>\r\n    <dc:format>image/svg+xml</dc:format>\r\n    <dc:creator>\r\n     <cc:Agent>\r\n      <dc:title>Matplotlib v3.3.4, https://matplotlib.org/</dc:title>\r\n     </cc:Agent>\r\n    </dc:creator>\r\n   </cc:Work>\r\n  </rdf:RDF>\r\n </metadata>\r\n <defs>\r\n  <style type=\"text/css\">*{stroke-linecap:butt;stroke-linejoin:round;}</style>\r\n </defs>\r\n <g id=\"figure_1\">\r\n  <g id=\"patch_1\">\r\n   <path d=\"M 0 160.812243 \r\nL 460.8 160.812243 \r\nL 460.8 0 \r\nL 0 0 \r\nz\r\n\" style=\"fill:none;\"/>\r\n  </g>\r\n  <g id=\"axes_1\">\r\n   <g clip-path=\"url(#p150c4011ea)\">\r\n    <image height=\"132\" id=\"image626434916b\" transform=\"scale(1 -1)translate(0 -132)\" width=\"132\" x=\"7.2\" xlink:href=\"data:image/png;base64,\r\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\" y=\"-21.612243\"/>\r\n   </g>\r\n   <g id=\"text_1\">\r\n    <!-- circle1.jpg -->\r\n    <g transform=\"translate(41.882371 16.318125)scale(0.12 -0.12)\">\r\n     <defs>\r\n      <path d=\"M 48.78125 52.59375 \r\nL 48.78125 44.1875 \r\nQ 44.96875 46.296875 41.140625 47.34375 \r\nQ 37.3125 48.390625 33.40625 48.390625 \r\nQ 24.65625 48.390625 19.8125 42.84375 \r\nQ 14.984375 37.3125 14.984375 27.296875 \r\nQ 14.984375 17.28125 19.8125 11.734375 \r\nQ 24.65625 6.203125 33.40625 6.203125 \r\nQ 37.3125 6.203125 41.140625 7.25 \r\nQ 44.96875 8.296875 48.78125 10.40625 \r\nL 48.78125 2.09375 \r\nQ 45.015625 0.34375 40.984375 -0.53125 \r\nQ 36.96875 -1.421875 32.421875 -1.421875 \r\nQ 20.0625 -1.421875 12.78125 6.34375 \r\nQ 5.515625 14.109375 5.515625 27.296875 \r\nQ 5.515625 40.671875 12.859375 48.328125 \r\nQ 20.21875 56 33.015625 56 \r\nQ 37.15625 56 41.109375 55.140625 \r\nQ 45.0625 54.296875 48.78125 52.59375 \r\nz\r\n\" id=\"DejaVuSans-99\"/>\r\n      <path d=\"M 9.421875 54.6875 \r\nL 18.40625 54.6875 \r\nL 18.40625 0 \r\nL 9.421875 0 \r\nz\r\nM 9.421875 75.984375 \r\nL 18.40625 75.984375 \r\nL 18.40625 64.59375 \r\nL 9.421875 64.59375 \r\nz\r\n\" id=\"DejaVuSans-105\"/>\r\n      <path d=\"M 41.109375 46.296875 \r\nQ 39.59375 47.171875 37.8125 47.578125 \r\nQ 36.03125 48 33.890625 48 \r\nQ 26.265625 48 22.1875 43.046875 \r\nQ 18.109375 38.09375 18.109375 28.8125 \r\nL 18.109375 0 \r\nL 9.078125 0 \r\nL 9.078125 54.6875 \r\nL 18.109375 54.6875 \r\nL 18.109375 46.1875 \r\nQ 20.953125 51.171875 25.484375 53.578125 \r\nQ 30.03125 56 36.53125 56 \r\nQ 37.453125 56 38.578125 55.875 \r\nQ 39.703125 55.765625 41.0625 55.515625 \r\nz\r\n\" id=\"DejaVuSans-114\"/>\r\n      <path d=\"M 9.421875 75.984375 \r\nL 18.40625 75.984375 \r\nL 18.40625 0 \r\nL 9.421875 0 \r\nz\r\n\" id=\"DejaVuSans-108\"/>\r\n      <path d=\"M 56.203125 29.59375 \r\nL 56.203125 25.203125 \r\nL 14.890625 25.203125 \r\nQ 15.484375 15.921875 20.484375 11.0625 \r\nQ 25.484375 6.203125 34.421875 6.203125 \r\nQ 39.59375 6.203125 44.453125 7.46875 \r\nQ 49.3125 8.734375 54.109375 11.28125 \r\nL 54.109375 2.78125 \r\nQ 49.265625 0.734375 44.1875 -0.34375 \r\nQ 39.109375 -1.421875 33.890625 -1.421875 \r\nQ 20.796875 -1.421875 13.15625 6.1875 \r\nQ 5.515625 13.8125 5.515625 26.8125 \r\nQ 5.515625 40.234375 12.765625 48.109375 \r\nQ 20.015625 56 32.328125 56 \r\nQ 43.359375 56 49.78125 48.890625 \r\nQ 56.203125 41.796875 56.203125 29.59375 \r\nz\r\nM 47.21875 32.234375 \r\nQ 47.125 39.59375 43.09375 43.984375 \r\nQ 39.0625 48.390625 32.421875 48.390625 \r\nQ 24.90625 48.390625 20.390625 44.140625 \r\nQ 15.875 39.890625 15.1875 32.171875 \r\nz\r\n\" id=\"DejaVuSans-101\"/>\r\n      <path d=\"M 12.40625 8.296875 \r\nL 28.515625 8.296875 \r\nL 28.515625 63.921875 \r\nL 10.984375 60.40625 \r\nL 10.984375 69.390625 \r\nL 28.421875 72.90625 \r\nL 38.28125 72.90625 \r\nL 38.28125 8.296875 \r\nL 54.390625 8.296875 \r\nL 54.390625 0 \r\nL 12.40625 0 \r\nz\r\n\" id=\"DejaVuSans-49\"/>\r\n      <path d=\"M 10.6875 12.40625 \r\nL 21 12.40625 \r\nL 21 0 \r\nL 10.6875 0 \r\nz\r\n\" id=\"DejaVuSans-46\"/>\r\n      <path d=\"M 9.421875 54.6875 \r\nL 18.40625 54.6875 \r\nL 18.40625 -0.984375 \r\nQ 18.40625 -11.421875 14.421875 -16.109375 \r\nQ 10.453125 -20.796875 1.609375 -20.796875 \r\nL -1.8125 -20.796875 \r\nL -1.8125 -13.1875 \r\nL 0.59375 -13.1875 \r\nQ 5.71875 -13.1875 7.5625 -10.8125 \r\nQ 9.421875 -8.453125 9.421875 -0.984375 \r\nz\r\nM 9.421875 75.984375 \r\nL 18.40625 75.984375 \r\nL 18.40625 64.59375 \r\nL 9.421875 64.59375 \r\nz\r\n\" id=\"DejaVuSans-106\"/>\r\n      <path d=\"M 18.109375 8.203125 \r\nL 18.109375 -20.796875 \r\nL 9.078125 -20.796875 \r\nL 9.078125 54.6875 \r\nL 18.109375 54.6875 \r\nL 18.109375 46.390625 \r\nQ 20.953125 51.265625 25.265625 53.625 \r\nQ 29.59375 56 35.59375 56 \r\nQ 45.5625 56 51.78125 48.09375 \r\nQ 58.015625 40.1875 58.015625 27.296875 \r\nQ 58.015625 14.40625 51.78125 6.484375 \r\nQ 45.5625 -1.421875 35.59375 -1.421875 \r\nQ 29.59375 -1.421875 25.265625 0.953125 \r\nQ 20.953125 3.328125 18.109375 8.203125 \r\nz\r\nM 48.6875 27.296875 \r\nQ 48.6875 37.203125 44.609375 42.84375 \r\nQ 40.53125 48.484375 33.40625 48.484375 \r\nQ 26.265625 48.484375 22.1875 42.84375 \r\nQ 18.109375 37.203125 18.109375 27.296875 \r\nQ 18.109375 17.390625 22.1875 11.75 \r\nQ 26.265625 6.109375 33.40625 6.109375 \r\nQ 40.53125 6.109375 44.609375 11.75 \r\nQ 48.6875 17.390625 48.6875 27.296875 \r\nz\r\n\" id=\"DejaVuSans-112\"/>\r\n      <path d=\"M 45.40625 27.984375 \r\nQ 45.40625 37.75 41.375 43.109375 \r\nQ 37.359375 48.484375 30.078125 48.484375 \r\nQ 22.859375 48.484375 18.828125 43.109375 \r\nQ 14.796875 37.75 14.796875 27.984375 \r\nQ 14.796875 18.265625 18.828125 12.890625 \r\nQ 22.859375 7.515625 30.078125 7.515625 \r\nQ 37.359375 7.515625 41.375 12.890625 \r\nQ 45.40625 18.265625 45.40625 27.984375 \r\nz\r\nM 54.390625 6.78125 \r\nQ 54.390625 -7.171875 48.1875 -13.984375 \r\nQ 42 -20.796875 29.203125 -20.796875 \r\nQ 24.46875 -20.796875 20.265625 -20.09375 \r\nQ 16.0625 -19.390625 12.109375 -17.921875 \r\nL 12.109375 -9.1875 \r\nQ 16.0625 -11.328125 19.921875 -12.34375 \r\nQ 23.78125 -13.375 27.78125 -13.375 \r\nQ 36.625 -13.375 41.015625 -8.765625 \r\nQ 45.40625 -4.15625 45.40625 5.171875 \r\nL 45.40625 9.625 \r\nQ 42.625 4.78125 38.28125 2.390625 \r\nQ 33.9375 0 27.875 0 \r\nQ 17.828125 0 11.671875 7.65625 \r\nQ 5.515625 15.328125 5.515625 27.984375 \r\nQ 5.515625 40.671875 11.671875 48.328125 \r\nQ 17.828125 56 27.875 56 \r\nQ 33.9375 56 38.28125 53.609375 \r\nQ 42.625 51.21875 45.40625 46.390625 \r\nL 45.40625 54.6875 \r\nL 54.390625 54.6875 \r\nz\r\n\" id=\"DejaVuSans-103\"/>\r\n     </defs>\r\n     <use xlink:href=\"#DejaVuSans-99\"/>\r\n     <use x=\"54.980469\" xlink:href=\"#DejaVuSans-105\"/>\r\n     <use x=\"82.763672\" xlink:href=\"#DejaVuSans-114\"/>\r\n     <use x=\"121.626953\" xlink:href=\"#DejaVuSans-99\"/>\r\n     <use x=\"176.607422\" xlink:href=\"#DejaVuSans-108\"/>\r\n     <use x=\"204.390625\" xlink:href=\"#DejaVuSans-101\"/>\r\n     <use x=\"265.914062\" xlink:href=\"#DejaVuSans-49\"/>\r\n     <use x=\"329.537109\" xlink:href=\"#DejaVuSans-46\"/>\r\n     <use x=\"361.324219\" xlink:href=\"#DejaVuSans-106\"/>\r\n     <use x=\"389.107422\" xlink:href=\"#DejaVuSans-112\"/>\r\n     <use x=\"452.583984\" xlink:href=\"#DejaVuSans-103\"/>\r\n    </g>\r\n   </g>\r\n  </g>\r\n  <g id=\"axes_2\">\r\n   <g clip-path=\"url(#pf93ec8140e)\">\r\n    <image height=\"132\" id=\"image6542a97524\" transform=\"scale(1 -1)translate(0 -132)\" width=\"132\" x=\"164.752941\" xlink:href=\"data:image/png;base64,\r\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\" y=\"-21.612243\"/>\r\n   </g>\r\n   <g id=\"text_2\">\r\n    <!-- square1.jpg -->\r\n    <g transform=\"translate(194.953125 16.318125)scale(0.12 -0.12)\">\r\n     <defs>\r\n      <path d=\"M 44.28125 53.078125 \r\nL 44.28125 44.578125 \r\nQ 40.484375 46.53125 36.375 47.5 \r\nQ 32.28125 48.484375 27.875 48.484375 \r\nQ 21.1875 48.484375 17.84375 46.4375 \r\nQ 14.5 44.390625 14.5 40.28125 \r\nQ 14.5 37.15625 16.890625 35.375 \r\nQ 19.28125 33.59375 26.515625 31.984375 \r\nL 29.59375 31.296875 \r\nQ 39.15625 29.25 43.1875 25.515625 \r\nQ 47.21875 21.78125 47.21875 15.09375 \r\nQ 47.21875 7.46875 41.1875 3.015625 \r\nQ 35.15625 -1.421875 24.609375 -1.421875 \r\nQ 20.21875 -1.421875 15.453125 -0.5625 \r\nQ 10.6875 0.296875 5.421875 2 \r\nL 5.421875 11.28125 \r\nQ 10.40625 8.6875 15.234375 7.390625 \r\nQ 20.0625 6.109375 24.8125 6.109375 \r\nQ 31.15625 6.109375 34.5625 8.28125 \r\nQ 37.984375 10.453125 37.984375 14.40625 \r\nQ 37.984375 18.0625 35.515625 20.015625 \r\nQ 33.0625 21.96875 24.703125 23.78125 \r\nL 21.578125 24.515625 \r\nQ 13.234375 26.265625 9.515625 29.90625 \r\nQ 5.8125 33.546875 5.8125 39.890625 \r\nQ 5.8125 47.609375 11.28125 51.796875 \r\nQ 16.75 56 26.8125 56 \r\nQ 31.78125 56 36.171875 55.265625 \r\nQ 40.578125 54.546875 44.28125 53.078125 \r\nz\r\n\" id=\"DejaVuSans-115\"/>\r\n      <path d=\"M 14.796875 27.296875 \r\nQ 14.796875 17.390625 18.875 11.75 \r\nQ 22.953125 6.109375 30.078125 6.109375 \r\nQ 37.203125 6.109375 41.296875 11.75 \r\nQ 45.40625 17.390625 45.40625 27.296875 \r\nQ 45.40625 37.203125 41.296875 42.84375 \r\nQ 37.203125 48.484375 30.078125 48.484375 \r\nQ 22.953125 48.484375 18.875 42.84375 \r\nQ 14.796875 37.203125 14.796875 27.296875 \r\nz\r\nM 45.40625 8.203125 \r\nQ 42.578125 3.328125 38.25 0.953125 \r\nQ 33.9375 -1.421875 27.875 -1.421875 \r\nQ 17.96875 -1.421875 11.734375 6.484375 \r\nQ 5.515625 14.40625 5.515625 27.296875 \r\nQ 5.515625 40.1875 11.734375 48.09375 \r\nQ 17.96875 56 27.875 56 \r\nQ 33.9375 56 38.25 53.625 \r\nQ 42.578125 51.265625 45.40625 46.390625 \r\nL 45.40625 54.6875 \r\nL 54.390625 54.6875 \r\nL 54.390625 -20.796875 \r\nL 45.40625 -20.796875 \r\nz\r\n\" id=\"DejaVuSans-113\"/>\r\n      <path d=\"M 8.5 21.578125 \r\nL 8.5 54.6875 \r\nL 17.484375 54.6875 \r\nL 17.484375 21.921875 \r\nQ 17.484375 14.15625 20.5 10.265625 \r\nQ 23.53125 6.390625 29.59375 6.390625 \r\nQ 36.859375 6.390625 41.078125 11.03125 \r\nQ 45.3125 15.671875 45.3125 23.6875 \r\nL 45.3125 54.6875 \r\nL 54.296875 54.6875 \r\nL 54.296875 0 \r\nL 45.3125 0 \r\nL 45.3125 8.40625 \r\nQ 42.046875 3.421875 37.71875 1 \r\nQ 33.40625 -1.421875 27.6875 -1.421875 \r\nQ 18.265625 -1.421875 13.375 4.4375 \r\nQ 8.5 10.296875 8.5 21.578125 \r\nz\r\nM 31.109375 56 \r\nz\r\n\" id=\"DejaVuSans-117\"/>\r\n      <path d=\"M 34.28125 27.484375 \r\nQ 23.390625 27.484375 19.1875 25 \r\nQ 14.984375 22.515625 14.984375 16.5 \r\nQ 14.984375 11.71875 18.140625 8.90625 \r\nQ 21.296875 6.109375 26.703125 6.109375 \r\nQ 34.1875 6.109375 38.703125 11.40625 \r\nQ 43.21875 16.703125 43.21875 25.484375 \r\nL 43.21875 27.484375 \r\nz\r\nM 52.203125 31.203125 \r\nL 52.203125 0 \r\nL 43.21875 0 \r\nL 43.21875 8.296875 \r\nQ 40.140625 3.328125 35.546875 0.953125 \r\nQ 30.953125 -1.421875 24.3125 -1.421875 \r\nQ 15.921875 -1.421875 10.953125 3.296875 \r\nQ 6 8.015625 6 15.921875 \r\nQ 6 25.140625 12.171875 29.828125 \r\nQ 18.359375 34.515625 30.609375 34.515625 \r\nL 43.21875 34.515625 \r\nL 43.21875 35.40625 \r\nQ 43.21875 41.609375 39.140625 45 \r\nQ 35.0625 48.390625 27.6875 48.390625 \r\nQ 23 48.390625 18.546875 47.265625 \r\nQ 14.109375 46.140625 10.015625 43.890625 \r\nL 10.015625 52.203125 \r\nQ 14.9375 54.109375 19.578125 55.046875 \r\nQ 24.21875 56 28.609375 56 \r\nQ 40.484375 56 46.34375 49.84375 \r\nQ 52.203125 43.703125 52.203125 31.203125 \r\nz\r\n\" id=\"DejaVuSans-97\"/>\r\n     </defs>\r\n     <use xlink:href=\"#DejaVuSans-115\"/>\r\n     <use x=\"52.099609\" xlink:href=\"#DejaVuSans-113\"/>\r\n     <use x=\"115.576172\" xlink:href=\"#DejaVuSans-117\"/>\r\n     <use x=\"178.955078\" xlink:href=\"#DejaVuSans-97\"/>\r\n     <use x=\"240.234375\" xlink:href=\"#DejaVuSans-114\"/>\r\n     <use x=\"279.097656\" xlink:href=\"#DejaVuSans-101\"/>\r\n     <use x=\"340.621094\" xlink:href=\"#DejaVuSans-49\"/>\r\n     <use x=\"404.244141\" xlink:href=\"#DejaVuSans-46\"/>\r\n     <use x=\"436.03125\" xlink:href=\"#DejaVuSans-106\"/>\r\n     <use x=\"463.814453\" xlink:href=\"#DejaVuSans-112\"/>\r\n     <use x=\"527.291016\" xlink:href=\"#DejaVuSans-103\"/>\r\n    </g>\r\n   </g>\r\n  </g>\r\n  <g id=\"axes_3\">\r\n   <g clip-path=\"url(#p8292476b06)\">\r\n    <image height=\"132\" id=\"image94a4d0db4a\" transform=\"scale(1 -1)translate(0 -132)\" width=\"132\" x=\"322.305882\" xlink:href=\"data:image/png;base64,\r\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\" y=\"-21.612243\"/>\r\n   </g>\r\n   <g id=\"text_3\">\r\n    <!-- triangle1.jpg -->\r\n    <g transform=\"translate(349.810754 16.318125)scale(0.12 -0.12)\">\r\n     <defs>\r\n      <path d=\"M 18.3125 70.21875 \r\nL 18.3125 54.6875 \r\nL 36.8125 54.6875 \r\nL 36.8125 47.703125 \r\nL 18.3125 47.703125 \r\nL 18.3125 18.015625 \r\nQ 18.3125 11.328125 20.140625 9.421875 \r\nQ 21.96875 7.515625 27.59375 7.515625 \r\nL 36.8125 7.515625 \r\nL 36.8125 0 \r\nL 27.59375 0 \r\nQ 17.1875 0 13.234375 3.875 \r\nQ 9.28125 7.765625 9.28125 18.015625 \r\nL 9.28125 47.703125 \r\nL 2.6875 47.703125 \r\nL 2.6875 54.6875 \r\nL 9.28125 54.6875 \r\nL 9.28125 70.21875 \r\nz\r\n\" id=\"DejaVuSans-116\"/>\r\n      <path d=\"M 54.890625 33.015625 \r\nL 54.890625 0 \r\nL 45.90625 0 \r\nL 45.90625 32.71875 \r\nQ 45.90625 40.484375 42.875 44.328125 \r\nQ 39.84375 48.1875 33.796875 48.1875 \r\nQ 26.515625 48.1875 22.3125 43.546875 \r\nQ 18.109375 38.921875 18.109375 30.90625 \r\nL 18.109375 0 \r\nL 9.078125 0 \r\nL 9.078125 54.6875 \r\nL 18.109375 54.6875 \r\nL 18.109375 46.1875 \r\nQ 21.34375 51.125 25.703125 53.5625 \r\nQ 30.078125 56 35.796875 56 \r\nQ 45.21875 56 50.046875 50.171875 \r\nQ 54.890625 44.34375 54.890625 33.015625 \r\nz\r\n\" id=\"DejaVuSans-110\"/>\r\n     </defs>\r\n     <use xlink:href=\"#DejaVuSans-116\"/>\r\n     <use x=\"39.208984\" xlink:href=\"#DejaVuSans-114\"/>\r\n     <use x=\"80.322266\" xlink:href=\"#DejaVuSans-105\"/>\r\n     <use x=\"108.105469\" xlink:href=\"#DejaVuSans-97\"/>\r\n     <use x=\"169.384766\" xlink:href=\"#DejaVuSans-110\"/>\r\n     <use x=\"232.763672\" xlink:href=\"#DejaVuSans-103\"/>\r\n     <use x=\"296.240234\" xlink:href=\"#DejaVuSans-108\"/>\r\n     <use x=\"324.023438\" xlink:href=\"#DejaVuSans-101\"/>\r\n     <use x=\"385.546875\" xlink:href=\"#DejaVuSans-49\"/>\r\n     <use x=\"449.169922\" xlink:href=\"#DejaVuSans-46\"/>\r\n     <use x=\"480.957031\" xlink:href=\"#DejaVuSans-106\"/>\r\n     <use x=\"508.740234\" xlink:href=\"#DejaVuSans-112\"/>\r\n     <use x=\"572.216797\" xlink:href=\"#DejaVuSans-103\"/>\r\n    </g>\r\n   </g>\r\n  </g>\r\n </g>\r\n <defs>\r\n  <clipPath id=\"p150c4011ea\">\r\n   <rect height=\"131.294118\" width=\"131.294118\" x=\"7.2\" y=\"22.318125\"/>\r\n  </clipPath>\r\n  <clipPath id=\"pf93ec8140e\">\r\n   <rect height=\"131.294118\" width=\"131.294118\" x=\"164.752941\" y=\"22.318125\"/>\r\n  </clipPath>\r\n  <clipPath id=\"p8292476b06\">\r\n   <rect height=\"131.294118\" width=\"131.294118\" x=\"322.305882\" y=\"22.318125\"/>\r\n  </clipPath>\r\n </defs>\r\n</svg>\r\n",
      "image/png": "[encoded data removed]"
     },
     "metadata": {
      "needs_background": "light"
     }
    }
   ],
   "source": [
    "# The images are in the data/shapes folder\n",
    "data_path = 'data/shapes/'\n",
    "\n",
    "# Get the class names\n",
    "classes = os.listdir(data_path)\n",
    "classes.sort()\n",
    "print(len(classes), 'classes:')\n",
    "print(classes)\n",
    "\n",
    "# Show the first image in each folder\n",
    "fig = plt.figure(figsize=(8, 12))\n",
    "i = 0\n",
    "for sub_dir in os.listdir(data_path):\n",
    "    i+=1\n",
    "    img_file = os.listdir(os.path.join(data_path,sub_dir))[0]\n",
    "    img_path = os.path.join(data_path, sub_dir, img_file)\n",
    "    img = mpimg.imread(img_path)\n",
    "    a=fig.add_subplot(1, len(classes),i)\n",
    "    a.axis('off')\n",
    "    imgplot = plt.imshow(img)\n",
    "    a.set_title(img_file)\n",
    "plt.show()"
   ]
  },
  {
   "cell_type": "markdown",
   "metadata": {},
   "source": [
    "## Load data\n",
    "\n",
    "PyTorch includes functions for loading and transforming data. We'll use these to create an iterative loader for training data, and a second iterative loader for test data (which we'll use to validate the trained model). The loaders will transform the image data into *tensors*, which are the core data structure used in PyTorch, and normalize them so that the pixel values are in a scale with a mean of 0.5 and a standard deviation of 0.5.\n",
    "\n",
    "Run the following cell to define the data loaders."
   ]
  },
  {
   "cell_type": "code",
   "execution_count": 28,
   "metadata": {},
   "outputs": [
    {
     "output_type": "execute_result",
     "data": {
      "text/plain": [
       "(128, 128, 3)"
      ]
     },
     "metadata": {},
     "execution_count": 28
    }
   ],
   "source": [
    "# js\n",
    "img_file = os.listdir(os.path.join(data_path,'circle'))[0]\n",
    "img_path = os.path.join(data_path, 'circle', img_file)\n",
    "img_path\n",
    "img = mpimg.imread(img_path)\n",
    "np.shape(img)"
   ]
  },
  {
   "cell_type": "code",
   "execution_count": null,
   "metadata": {
    "tags": []
   },
   "outputs": [],
   "source": [
    "# Function to ingest data using training and test loaders\n",
    "def load_dataset(data_path):\n",
    "    # Load all of the images\n",
    "    transformation = transforms.Compose([\n",
    "        # transform to tensors\n",
    "        transforms.ToTensor(),\n",
    "        # Normalize the pixel values (in R, G, and B channels)\n",
    "        transforms.Normalize(mean=[0.5, 0.5, 0.5], std=[0.5, 0.5, 0.5])\n",
    "    ])\n",
    "\n",
    "    # Load all of the images, transforming them\n",
    "    full_dataset = torchvision.datasets.ImageFolder(\n",
    "        root=data_path,\n",
    "        transform=transformation\n",
    "    )\n",
    "    \n",
    "    \n",
    "    # Split into training (70% and testing (30%) datasets)\n",
    "    train_size = int(0.7 * len(full_dataset))\n",
    "    test_size = len(full_dataset) - train_size\n",
    "    train_dataset, test_dataset = torch.utils.data.random_split(full_dataset, [train_size, test_size])\n",
    "    \n",
    "    # define a loader for the training data we can iterate through in 50-image batches\n",
    "    train_loader = torch.utils.data.DataLoader(\n",
    "        train_dataset,\n",
    "        batch_size=50,\n",
    "        num_workers=0,\n",
    "        shuffle=False\n",
    "    )\n",
    "    \n",
    "    # define a loader for the testing data we can iterate through in 50-image batches\n",
    "    test_loader = torch.utils.data.DataLoader(\n",
    "        test_dataset,\n",
    "        batch_size=50,\n",
    "        num_workers=0,\n",
    "        shuffle=False\n",
    "    )\n",
    "        \n",
    "    return train_loader, test_loader\n",
    "\n",
    "\n",
    "# Get the iterative dataloaders for test and training data\n",
    "train_loader, test_loader = load_dataset(data_path)\n",
    "print('Data loaders ready')"
   ]
  },
  {
   "cell_type": "markdown",
   "metadata": {},
   "source": [
    "## Define the CNN\n",
    "\n",
    "In PyTorch, you define a neural network model as a class that is derived from the **nn.Module** base class. Your class must define the layers in your network, and provide a **forward** method that is used to process data through the layers of the network."
   ]
  },
  {
   "cell_type": "code",
   "execution_count": null,
   "metadata": {
    "tags": []
   },
   "outputs": [],
   "source": [
    "# Create a neural net class\n",
    "class Net(nn.Module):\n",
    "    # Constructor\n",
    "    def __init__(self, num_classes=3):\n",
    "        super(Net, self).__init__()\n",
    "        \n",
    "        # Our images are RGB, so input channels = 3. We'll apply 12 filters in the first convolutional layer\n",
    "        self.conv1 = nn.Conv2d(in_channels=3, out_channels=12, kernel_size=3, stride=1, padding=1)\n",
    "        \n",
    "        # We'll apply max pooling with a kernel size of 2\n",
    "        self.pool = nn.MaxPool2d(kernel_size=2)\n",
    "        \n",
    "        # A second convolutional layer takes 12 input channels, and generates 12 outputs\n",
    "        self.conv2 = nn.Conv2d(in_channels=12, out_channels=12, kernel_size=3, stride=1, padding=1)\n",
    "        \n",
    "        # A third convolutional layer takes 12 inputs and generates 24 outputs\n",
    "        self.conv3 = nn.Conv2d(in_channels=12, out_channels=24, kernel_size=3, stride=1, padding=1)\n",
    "        \n",
    "        # A drop layer deletes 20% of the features to help prevent overfitting\n",
    "        self.drop = nn.Dropout2d(p=0.2)\n",
    "        \n",
    "        # Our 128x128 image tensors will be pooled twice with a kernel size of 2. 128/2/2 is 32.\n",
    "        # So our feature tensors are now 32 x 32, and we've generated 24 of them\n",
    "        # We need to flatten these and feed them to a fully-connected layer\n",
    "        # to map them to  the probability for each class\n",
    "        self.fc = nn.Linear(in_features=32 * 32 * 24, out_features=num_classes)\n",
    "\n",
    "    def forward(self, x):\n",
    "        # Use a relu activation function after layer 1 (convolution 1 and pool)\n",
    "        x = F.relu(self.pool(self.conv1(x)))\n",
    "      \n",
    "        # Use a relu activation function after layer 2 (convolution 2 and pool)\n",
    "        x = F.relu(self.pool(self.conv2(x)))\n",
    "        \n",
    "        # Select some features to drop after the 3rd convolution to prevent overfitting\n",
    "        x = F.relu(self.drop(self.conv3(x)))\n",
    "        \n",
    "        # Only drop the features if this is a training pass\n",
    "        x = F.dropout(x, training=self.training)\n",
    "        \n",
    "        # Flatten\n",
    "        x = x.view(-1, 32 * 32 * 24)\n",
    "        # Feed to fully-connected layer to predict class\n",
    "        x = self.fc(x)\n",
    "        # Return class probabilities via a log_softmax function \n",
    "        return F.log_softmax(x, dim=1)\n",
    "    \n",
    "print(\"CNN model class defined!\")"
   ]
  },
  {
   "cell_type": "markdown",
   "metadata": {},
   "source": [
    "## Train the model\n",
    "\n",
    "Now that we've defined a class for the network, we can train it using the image data.\n",
    "\n",
    "Training consists of an iterative series of forward passes in which the training data is processed in batches by the layers in the network, and the optimizer goes back and adjusts the weights. We'll also use a separate set of test images to test the model at the end of each iteration (or *epoch*) so we can track the performance improvement as the training process progresses.\n",
    "\n",
    "In the example below, we use 5 epochs to train the model using the batches of images loaded by the data loaders, holding back the data in the test data loader for validation. After each epoch, a loss function measures the error (*loss*) in the model and adjusts the weights (which were randomly generated for the first iteration) to try to improve accuracy. \n",
    "\n",
    "> **Note**: We're only using 5 epochs to minimze the training time for this simple example. A real-world CNN is usually trained over more epochs than this. CNN model training is processor-intensive, involving a lot of matrix and vector-based operations; so it's recommended to perform this on a system that can leverage GPUs, which are optimized for these kinds of calculation. This will take a while to complete on a CPU-based system - status will be displayed as the training progresses."
   ]
  },
  {
   "cell_type": "code",
   "execution_count": null,
   "metadata": {
    "tags": []
   },
   "outputs": [],
   "source": [
    "def train(model, device, train_loader, optimizer, epoch):\n",
    "    # Set the model to training mode\n",
    "    model.train()\n",
    "    train_loss = 0\n",
    "    print(\"Epoch:\", epoch)\n",
    "    # Process the images in batches\n",
    "    for batch_idx, (data, target) in enumerate(train_loader):\n",
    "        # Use the CPU or GPU as appropriate\n",
    "        data, target = data.to(device), target.to(device)\n",
    "        \n",
    "        # Reset the optimizer\n",
    "        optimizer.zero_grad()\n",
    "        \n",
    "        # Push the data forward through the model layers\n",
    "        output = model(data)\n",
    "        \n",
    "        # Get the loss\n",
    "        loss = loss_criteria(output, target)\n",
    "        \n",
    "        # Keep a running total\n",
    "        train_loss += loss.item()\n",
    "        \n",
    "        # Backpropagate\n",
    "        loss.backward()\n",
    "        optimizer.step()\n",
    "        \n",
    "        # Print metrics for every 10 batches so we see some progress\n",
    "        if batch_idx % 10 == 0:\n",
    "            print('Training set [{}/{} ({:.0f}%)] Loss: {:.6f}'.format(\n",
    "                batch_idx * len(data), len(train_loader.dataset),\n",
    "                100. * batch_idx / len(train_loader), loss.item()))\n",
    "            \n",
    "    # return average loss for the epoch\n",
    "    avg_loss = train_loss / (batch_idx+1)\n",
    "    print('Training set: Average loss: {:.6f}'.format(avg_loss))\n",
    "    return avg_loss\n",
    "            \n",
    "            \n",
    "def test(model, device, test_loader):\n",
    "    # Switch the model to evaluation mode (so we don't backpropagate or drop)\n",
    "    model.eval()\n",
    "    test_loss = 0\n",
    "    correct = 0\n",
    "    with torch.no_grad():\n",
    "        batch_count = 0\n",
    "        for data, target in test_loader:\n",
    "            batch_count += 1\n",
    "            data, target = data.to(device), target.to(device)\n",
    "            \n",
    "            # Get the predicted classes for this batch\n",
    "            output = model(data)\n",
    "            \n",
    "            # Calculate the loss for this batch\n",
    "            test_loss += loss_criteria(output, target).item()\n",
    "            \n",
    "            # Calculate the accuracy for this batch\n",
    "            _, predicted = torch.max(output.data, 1)\n",
    "            correct += torch.sum(target==predicted).item()\n",
    "\n",
    "    # Calculate the average loss and total accuracy for this epoch\n",
    "    avg_loss = test_loss/batch_count\n",
    "    print('Validation set: Average loss: {:.6f}, Accuracy: {}/{} ({:.0f}%)\\n'.format(\n",
    "        avg_loss, correct, len(test_loader.dataset),\n",
    "        100. * correct / len(test_loader.dataset)))\n",
    "    \n",
    "    # return average loss for the epoch\n",
    "    return avg_loss\n",
    "    \n",
    "    \n",
    "# Now use the train and test functions to train and test the model    \n",
    "\n",
    "device = \"cpu\"\n",
    "if (torch.cuda.is_available()):\n",
    "    # if GPU available, use cuda (on a cpu, training will take a considerable length of time!)\n",
    "    device = \"cuda\"\n",
    "print('Training on', device)\n",
    "\n",
    "# Create an instance of the model class and allocate it to the device\n",
    "model = Net(num_classes=len(classes)).to(device)\n",
    "\n",
    "# Use an \"Adam\" optimizer to adjust weights\n",
    "# (see https://pytorch.org/docs/stable/optim.html#algorithms for details of supported algorithms)\n",
    "optimizer = optim.Adam(model.parameters(), lr=0.001)\n",
    "\n",
    "# Specify the loss criteria\n",
    "loss_criteria = nn.CrossEntropyLoss()\n",
    "\n",
    "# Track metrics in these arrays\n",
    "epoch_nums = []\n",
    "training_loss = []\n",
    "validation_loss = []\n",
    "\n",
    "# Train over 5 epochs (in a real scenario, you'd likely use many more)\n",
    "epochs = 5\n",
    "for epoch in range(1, epochs + 1):\n",
    "        train_loss = train(model, device, train_loader, optimizer, epoch)\n",
    "        test_loss = test(model, device, test_loader)\n",
    "        epoch_nums.append(epoch)\n",
    "        training_loss.append(train_loss)\n",
    "        validation_loss.append(test_loss)"
   ]
  },
  {
   "cell_type": "markdown",
   "metadata": {},
   "source": [
    "## View the loss history\n",
    "\n",
    "We tracked average training and validation loss for each epoch. We can plot these to verify that loss reduced as the model was trained, and to detect *over-fitting* (which is indicated by a continued drop in training loss after validation loss has levelled out or started to increase)."
   ]
  },
  {
   "cell_type": "code",
   "execution_count": null,
   "metadata": {},
   "outputs": [],
   "source": [
    "%matplotlib inline\n",
    "from matplotlib import pyplot as plt\n",
    "\n",
    "plt.plot(epoch_nums, training_loss)\n",
    "plt.plot(epoch_nums, validation_loss)\n",
    "plt.xlabel('epoch')\n",
    "plt.ylabel('loss')\n",
    "plt.legend(['training', 'validation'], loc='upper right')\n",
    "plt.show()"
   ]
  },
  {
   "cell_type": "markdown",
   "metadata": {},
   "source": [
    "## Evaluate model performance\n",
    "\n",
    "You can see the final accuracy based on the test data, but typically you'll want to explore performance metrics in a little more depth. Let's plot a confusion matrix to see how well the model is predicting each class."
   ]
  },
  {
   "cell_type": "code",
   "execution_count": null,
   "metadata": {
    "scrolled": false,
    "tags": []
   },
   "outputs": [],
   "source": [
    "# Pytorch doesn't have a built-in confusion matrix metric, so we'll use SciKit-Learn\n",
    "from sklearn.metrics import confusion_matrix\n",
    "\n",
    "# Set the model to evaluate mode\n",
    "model.eval()\n",
    "\n",
    "# Get predictions for the test data and convert to numpy arrays for use with SciKit-Learn\n",
    "print(\"Getting predictions from test set...\")\n",
    "truelabels = []\n",
    "predictions = []\n",
    "for data, target in test_loader:\n",
    "    for label in target.cpu().data.numpy():\n",
    "        truelabels.append(label)\n",
    "    for prediction in model.cpu()(data).data.numpy().argmax(1):\n",
    "        predictions.append(prediction) \n",
    "\n",
    "# Plot the confusion matrix\n",
    "cm = confusion_matrix(truelabels, predictions)\n",
    "plt.imshow(cm, interpolation=\"nearest\", cmap=plt.cm.Blues)\n",
    "plt.colorbar()\n",
    "tick_marks = np.arange(len(classes))\n",
    "plt.xticks(tick_marks, classes, rotation=45)\n",
    "plt.yticks(tick_marks, classes)\n",
    "plt.xlabel(\"Predicted Shape\")\n",
    "plt.ylabel(\"Actual Shape\")\n",
    "plt.show()"
   ]
  },
  {
   "cell_type": "markdown",
   "metadata": {},
   "source": [
    "## Save the Trained model\n",
    "\n",
    "Now that you've trained a working model, you can save it (including the trained weights) for use later."
   ]
  },
  {
   "cell_type": "code",
   "execution_count": null,
   "metadata": {},
   "outputs": [],
   "source": [
    "# Save the model weights\n",
    "model_file = 'models/shape_classifier.pt'\n",
    "torch.save(model.state_dict(), model_file)\n",
    "del model\n",
    "print('model saved as', model_file)"
   ]
  },
  {
   "cell_type": "markdown",
   "metadata": {},
   "source": [
    "## Use the trained model\n",
    "\n",
    "Now that we've trained and evaluated our model, we can use it to predict classes for new images."
   ]
  },
  {
   "cell_type": "code",
   "execution_count": null,
   "metadata": {
    "tags": []
   },
   "outputs": [],
   "source": [
    "import matplotlib.pyplot as plt\n",
    "import os\n",
    "from random import randint\n",
    "%matplotlib inline\n",
    "\n",
    "\n",
    "# Function to predict the class of an image\n",
    "def predict_image(classifier, image):\n",
    "    import numpy\n",
    "    \n",
    "    # Set the classifer model to evaluation mode\n",
    "    classifier.eval()\n",
    "    \n",
    "    # Apply the same transformations as we did for the training images\n",
    "    transformation = transforms.Compose([\n",
    "        transforms.ToTensor(),\n",
    "        transforms.Normalize(mean=[0.5, 0.5, 0.5], std=[0.5, 0.5, 0.5])\n",
    "    ])\n",
    "\n",
    "    # Preprocess the image\n",
    "    image_tensor = transformation(image).float()\n",
    "\n",
    "    # Add an extra batch dimension since pytorch treats all inputs as batches\n",
    "    image_tensor = image_tensor.unsqueeze_(0)\n",
    "\n",
    "    # Turn the input into a Variable\n",
    "    input_features = Variable(image_tensor)\n",
    "\n",
    "    # Predict the class of the image\n",
    "    output = classifier(input_features)\n",
    "    index = output.data.numpy().argmax()\n",
    "    return index\n",
    "\n",
    "\n",
    "# Function to create a random image (of a square, circle, or triangle)\n",
    "def create_image (size, shape):\n",
    "    from random import randint\n",
    "    import numpy as np\n",
    "    from PIL import Image, ImageDraw\n",
    "    \n",
    "    xy1 = randint(10,40)\n",
    "    xy2 = randint(60,100)\n",
    "    col = (randint(0,200), randint(0,200), randint(0,200))\n",
    "\n",
    "    img = Image.new(\"RGB\", size, (255, 255, 255))\n",
    "    draw = ImageDraw.Draw(img)\n",
    "    \n",
    "    if shape == 'circle':\n",
    "        draw.ellipse([(xy1,xy1), (xy2,xy2)], fill=col)\n",
    "    elif shape == 'triangle':\n",
    "        draw.polygon([(xy1,xy1), (xy2,xy2), (xy2,xy1)], fill=col)\n",
    "    else: # square\n",
    "        draw.rectangle([(xy1,xy1), (xy2,xy2)], fill=col)\n",
    "    del draw\n",
    "    \n",
    "    return np.array(img)\n",
    "\n",
    "# Create a random test image\n",
    "classnames = os.listdir(os.path.join('data', 'shapes'))\n",
    "classnames.sort()\n",
    "shape = classnames[randint(0, len(classnames)-1)]\n",
    "img = create_image ((128,128), shape)\n",
    "\n",
    "# Display the image\n",
    "plt.axis('off')\n",
    "plt.imshow(img)\n",
    "\n",
    "# Create a new model class and load the saved weights\n",
    "model = Net()\n",
    "model.load_state_dict(torch.load(model_file))\n",
    "\n",
    "# Call the predction function\n",
    "index = predict_image(model, img)\n",
    "print(classes[index])"
   ]
  },
  {
   "cell_type": "markdown",
   "metadata": {},
   "source": [
    "## Further Reading\n",
    "\n",
    "To learn more about training convolutional neural networks with PyTorch, see the [PyTorch documentation](https://pytorch.org/).\n",
    "\n",
    "## Challenge: Safari Image Classification\n",
    "\n",
    "Hopefully this notebook has shown you the main steps in training and evaluating a CNN. Why not put what you've learned into practice with our Safari image classification challenge in the [/challenges/05 - Safari CNN Challenge.ipynb](./challenges/05%20-%20Safari%20CNN%20Challenge.ipynb) notebook?\n",
    "\n",
    "> **Note**: The time to complete this optional challenge is not included in the estimated time for this exercise - you can spend as little or as much time on it as you like!"
   ]
  }
 ],
 "metadata": {
  "kernelspec": {
   "name": "python3",
   "display_name": "Python 3.9.2 64-bit",
   "metadata": {
    "interpreter": {
     "hash": "80cda23985713241bfc87d9239e0ce890d23031fd0492ad4e1ef600f8737fe63"
    }
   }
  },
  "language_info": {
   "codemirror_mode": {
    "name": "ipython",
    "version": 3
   },
   "file_extension": ".py",
   "mimetype": "text/x-python",
   "name": "python",
   "nbconvert_exporter": "python",
   "pygments_lexer": "ipython3",
   "version": "3.9.2-final"
  }
 },
 "nbformat": 4,
 "nbformat_minor": 2
}