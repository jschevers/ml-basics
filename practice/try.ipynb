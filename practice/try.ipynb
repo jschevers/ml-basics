{
 "metadata": {
  "language_info": {
   "codemirror_mode": {
    "name": "ipython",
    "version": 3
   },
   "file_extension": ".py",
   "mimetype": "text/x-python",
   "name": "python",
   "nbconvert_exporter": "python",
   "pygments_lexer": "ipython3",
   "version": "3.9.4"
  },
  "orig_nbformat": 2,
  "kernelspec": {
   "name": "python394jvsc74a57bd080cda23985713241bfc87d9239e0ce890d23031fd0492ad4e1ef600f8737fe63",
   "display_name": "Python 3.9.4 64-bit"
  }
 },
 "nbformat": 4,
 "nbformat_minor": 2,
 "cells": [
  {
   "cell_type": "code",
   "execution_count": 2,
   "metadata": {},
   "outputs": [],
   "source": [
    "def softmax(x):\n",
    "    import numpy as np\n",
    "    return np.exp(x) / np.sum(x, axis = 0 )"
   ]
  },
  {
   "cell_type": "code",
   "execution_count": 4,
   "metadata": {},
   "outputs": [
    {
     "output_type": "execute_result",
     "data": {
      "text/plain": [
       "array([[2.71828183e+00, 3.69452805e+00, 6.69517897e+00, 1.36495375e+01,\n",
       "        2.96826318e+01, 6.72381322e+01, 1.56661880e+02, 3.72619748e+02,\n",
       "        9.00342659e+02, 2.20264658e+03, 5.44310379e+03, 1.35628993e+04,\n",
       "        3.40317994e+04, 8.59003060e+04, 2.17934491e+05, 5.55381908e+05,\n",
       "        1.42087957e+06, 3.64777606e+06, 9.39380531e+06]])"
      ]
     },
     "metadata": {},
     "execution_count": 4
    }
   ],
   "source": [
    "softmax([range(1, 20)])"
   ]
  },
  {
   "cell_type": "code",
   "execution_count": 6,
   "metadata": {},
   "outputs": [
    {
     "output_type": "stream",
     "name": "stdout",
     "text": [
      "0\n1\n2\n3\n4\n5\n6\n7\n8\n9\n"
     ]
    }
   ],
   "source": [
    "for i in range(0, 10):\n",
    "    print(i)"
   ]
  },
  {
   "cell_type": "code",
   "execution_count": null,
   "metadata": {},
   "outputs": [],
   "source": []
  }
 ]
}