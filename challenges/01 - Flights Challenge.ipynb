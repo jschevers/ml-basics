{
 "cells": [
  {
   "source": [
    "# Flights Data Exploration Challenge\n",
    "\n",
    "In this challge, you'll explore a real-world dataset containing flights data from the US Department of Transportation.\n",
    "\n",
    "Let's start by loading and viewing the data."
   ],
   "cell_type": "markdown",
   "metadata": {}
  },
  {
   "source": [
    "import pandas as pd\n",
    "\n",
    "df_flights = pd.read_csv('data/flights.csv')\n",
    "df_flights.head()"
   ],
   "cell_type": "code",
   "metadata": {},
   "execution_count": null,
   "outputs": []
  },
  {
   "source": [
    "The dataset contains observations of US domestic flights in 2013, and consists of the following fields:\n",
    "\n",
    "- **Year**: The year of the flight (all records are from 2013)\n",
    "- **Month**: The month of the flight\n",
    "- **DayofMonth**: The day of the month on which the flight departed\n",
    "- **DayOfWeek**: The day of the week on which the flight departed - from 1 (Monday) to 7 (Sunday)\n",
    "- **Carrier**: The two-letter abbreviation for the airline.\n",
    "- **OriginAirportID**: A unique numeric identifier for the departure aiport\n",
    "- **OriginAirportName**: The full name of the departure airport\n",
    "- **OriginCity**: The departure airport city\n",
    "- **OriginState**: The departure airport state\n",
    "- **DestAirportID**: A unique numeric identifier for the destination aiport\n",
    "- **DestAirportName**: The full name of the destination airport\n",
    "- **DestCity**: The destination airport city\n",
    "- **DestState**: The destination airport state\n",
    "- **CRSDepTime**: The scheduled departure time\n",
    "- **DepDelay**: The number of minutes departure was delayed (flight that left ahead of schedule have a negative value)\n",
    "- **DelDelay15**: A binary indicator that departure was delayed by more than 15 minutes (and therefore considered \"late\")\n",
    "- **CRSArrTime**: The scheduled arrival time\n",
    "- **ArrDelay**: The number of minutes arrival was delayed (flight that arrived ahead of schedule have a negative value)\n",
    "- **ArrDelay15**: A binary indicator that arrival was delayed by more than 15 minutes (and therefore considered \"late\")\n",
    "- **Cancelled**: A binary indicator that the flight was cancelled\n",
    "\n",
    "Your challenge is to explore the flight data to analyze possible factors that affect delays in departure or arrival of a flight.\n",
    "\n",
    "1. Start by cleaning the data.\n",
    "    - Identify any null or missing data, and impute appropriate replacement values.\n",
    "    - Identify and eliminate any outliers in the **DepDelay** and **ArrDelay** columns.\n",
    "2. Explore the cleaned data.\n",
    "    - View summary statistics for the numeric fields in the dataset.\n",
    "    - Determine the distribution of the **DepDelay** and **ArrDelay** columns.\n",
    "    - Use statistics, aggregate functions, and visualizations to answer the following questions:\n",
    "        - *What are the average (mean) departure and arrival delays?*\n",
    "        - *How do the carriers compare in terms of arrival delay performance?*\n",
    "        - *Is there a noticable difference in arrival delays for different days of the week?*\n",
    "        - *Which departure airport has the highest average departure delay?*\n",
    "        - *Do **late** departures tend to result in longer arrival delays than on-time departures?*\n",
    "        - *Which route (from origin airport to destination airport) has the most **late** arrivals?*\n",
    "        - *Which route has the highest average arrival delay?*\n",
    "        \n",
    "Add markdown and code cells as required to create your solution.\n",
    "\n",
    "> **Note**: There is no single \"correct\" solution. A sample solution is provided in [01 - Flights Challenge.ipynb](01%20-%20Flights%20Solution.ipynb)."
   ],
   "cell_type": "code",
   "metadata": {},
   "execution_count": null,
   "outputs": []
  },
  {
   "cell_type": "code",
   "execution_count": null,
   "metadata": {},
   "outputs": [],
   "source": [
    "# Your code to explore the data\n",
    "%matplotlib inline\n",
    "from matplotlib import pyplot as plt\n",
    "from matplotlib import gridspec\n",
    "import numpy as np"
   ]
  },
  {
   "source": [
    "# Step 1: Cleaning Data\n",
    "## Missing Values\n",
    "\n",
    "Let's see which columns have missing values:\n",
    "\n"
   ],
   "cell_type": "markdown",
   "metadata": {}
  },
  {
   "cell_type": "code",
   "execution_count": null,
   "metadata": {},
   "outputs": [],
   "source": [
    "df_flights.isnull().sum()"
   ]
  },
  {
   "source": [
    "Only **DepDel15** has missing values. \n",
    "\n",
    "Are there columns with empty stings?  "
   ],
   "cell_type": "markdown",
   "metadata": {}
  },
  {
   "cell_type": "code",
   "execution_count": null,
   "metadata": {},
   "outputs": [],
   "source": [
    "for var in list(df_flights.columns):\n",
    "    rowcount = sum(df_flights[var] == '')\n",
    "    print('{}: {}'.format(var, rowcount))\n"
   ]
  },
  {
   "source": [
    "Nope! \n",
    "These are the rows with missing values for **DepDel15**:"
   ],
   "cell_type": "markdown",
   "metadata": {}
  },
  {
   "cell_type": "code",
   "execution_count": null,
   "metadata": {},
   "outputs": [],
   "source": [
    "df_flights[df_flights.isnull().any(axis=1)]"
   ]
  },
  {
   "source": [
    "Are all flights with missing **DepDel15** cancelled?"
   ],
   "cell_type": "markdown",
   "metadata": {}
  },
  {
   "cell_type": "code",
   "execution_count": null,
   "metadata": {},
   "outputs": [],
   "source": [
    "df_flights[df_flights.isnull().any(axis=1)].groupby('Cancelled')['DepDelay'].describe()\n"
   ]
  },
  {
   "source": [
    "All rows with missing **DepDel15** are cancelled flights with `0` DepDelay.\n",
    "So, I'll replace all missing **DepDel15** with `0`. "
   ],
   "cell_type": "markdown",
   "metadata": {}
  },
  {
   "cell_type": "code",
   "execution_count": null,
   "metadata": {},
   "outputs": [],
   "source": [
    "# this doesn't work:\n",
    "#df_flights[df_flights.isnull().any(axis=1)]['DepDel15'] = 0\n",
    "\n",
    "# this works:\n",
    "#df_flights.DepDel15 = df_flights.DepDel15.fillna(0)\n",
    "#df_flights.DepDel15[df_flights.isnull().any(axis=1)] = 0\n",
    "#df_flights['DepDel15'][df_flights.isnull().any(axis=1)] = 0\n",
    "\n",
    "df_flights.DepDel15 = pd.np.where(df_flights.isnull().any(axis=1), 0, df_flights.DepDel15)"
   ]
  },
  {
   "source": [
    "Check again for missing valeus"
   ],
   "cell_type": "markdown",
   "metadata": {}
  },
  {
   "cell_type": "code",
   "execution_count": null,
   "metadata": {},
   "outputs": [],
   "source": [
    "df_flights.isnull().sum()"
   ]
  },
  {
   "source": [
    "Are there cancelled flights with delay??"
   ],
   "cell_type": "code",
   "metadata": {},
   "execution_count": null,
   "outputs": []
  },
  {
   "cell_type": "code",
   "execution_count": null,
   "metadata": {},
   "outputs": [],
   "source": [
    "df_flights.query('Cancelled == 1').query('DepDelay != 0')"
   ]
  },
  {
   "source": [
    "Yes, there are.  \n",
    "\n",
    "And cancelled flights with arrivaldalay??"
   ],
   "cell_type": "markdown",
   "metadata": {}
  },
  {
   "cell_type": "code",
   "execution_count": null,
   "metadata": {},
   "outputs": [],
   "source": [
    "df_flights.query('Cancelled == 1').query('ArrDelay != 0')"
   ]
  },
  {
   "cell_type": "code",
   "execution_count": null,
   "metadata": {},
   "outputs": [],
   "source": [
    "No, that would be odd."
   ]
  },
  {
   "source": [
    "## Outliers"
   ],
   "cell_type": "markdown",
   "metadata": {}
  },
  {
   "cell_type": "code",
   "execution_count": null,
   "metadata": {},
   "outputs": [],
   "source": [
    "This functions produces plot and stats to see the distribution of a variable:"
   ]
  },
  {
   "cell_type": "code",
   "execution_count": null,
   "metadata": {},
   "outputs": [],
   "source": [
    "def print_stats(var):\n",
    "   \n",
    "# the stats\n",
    "    mean_var = var.mean()\n",
    "    std_var = var.std()\n",
    "    min_var = var.min()\n",
    "    q01_var = var.quantile(0.01)\n",
    "    q25_var = var.quantile(0.25)\n",
    "    median_var = var.median()\n",
    "    q75_var = var.quantile(0.75)\n",
    "    q99_var = var.quantile(0.99)\n",
    "    max_var = var.max()\n",
    "    mode_var = var.mode()[0]\n",
    "    \n",
    "    stats = 'Mean          : {:.2f}\\nStd.Dev      : {:.2f}\\nMode          : {:.2f}\\nMinimum    : {:.2f}\\n01-quantile: {:.2f}\\n25-quantile: {:.2f}\\nMedian       : {:.2f}\\n75-quantile: {:.2f}\\n99-quantile: {:.2f}\\nMaximum   : {:.2f}'.format(\n",
    "                                mean_var\n",
    "                               ,std_var\n",
    "                               ,mode_var\n",
    "                               ,min_var\n",
    "                               ,q01_var\n",
    "                               ,q25_var\n",
    "                               ,median_var\n",
    "                               ,q75_var\n",
    "                               ,q99_var \n",
    "                               ,max_var)\n",
    "   \n",
    "    # set up figure\n",
    "    fig, ax = plt.subplots(2, 1\n",
    "                    ,figsize = (15, 5)\n",
    "                    ,sharex = True\n",
    "                    ,gridspec_kw = {'hspace': 0\n",
    "                                   ,'height_ratios': [5, 1]})\n",
    "   \n",
    "\n",
    " \n",
    "    fig.suptitle('Distribution ' + var.name)\n",
    "    \n",
    "    # histogram\n",
    "    ax[0].hist(var,  bins = np.arange(min_var, max_var, (q99_var - q01_var)/15))\n",
    "    ax[0].set_ylabel('Frequency')\n",
    "    # stat-lines\n",
    "    ax[0].axvline(x = q01_var, color = 'gray', linestyle='dashed', linewidth = 2)\n",
    "    ax[0].axvline(x = q99_var, color = 'gray', linestyle='dashed', linewidth = 2)\n",
    "    ax[0].axvline(x = mean_var, color = 'black', linestyle ='solid', linewidth = 2)\n",
    "    ax[0].axvline(x = median_var, color = 'black', linestyle='dashed', linewidth = 2)\n",
    "\n",
    "    ax[0].annotate(stats, xy = (.85, .5), xycoords='axes fraction')\n",
    "    \n",
    "    # boxplot\n",
    "    ax[1].boxplot(var, vert = False)\n",
    "    ax[1].set_xlabel('Value')\n",
    "\n",
    "    ax[0].label_outer()\n",
    "    fig.show()"
   ]
  },
  {
   "source": [
    "### DepDelay"
   ],
   "cell_type": "markdown",
   "metadata": {}
  },
  {
   "cell_type": "code",
   "execution_count": null,
   "metadata": {},
   "outputs": [],
   "source": [
    "print_stats(df_flights['DepDelay'])"
   ]
  },
  {
   "source": [
    "**DepDelay** has a very fat tail on the right."
   ],
   "cell_type": "markdown",
   "metadata": {}
  },
  {
   "source": [
    "### ArrDelay"
   ],
   "cell_type": "markdown",
   "metadata": {}
  },
  {
   "cell_type": "code",
   "execution_count": null,
   "metadata": {},
   "outputs": [],
   "source": [
    "print_stats(df_flights['ArrDelay'])"
   ]
  },
  {
   "source": [
    "**ArrDelay** has also a big fat tail on the right.  \n",
    "\n",
    "Now let's make a scatterplot of these two variables. Because some cancelled flight have departdelays, I want to be able to indentify them."
   ],
   "cell_type": "markdown",
   "metadata": {}
  },
  {
   "cell_type": "code",
   "execution_count": null,
   "metadata": {},
   "outputs": [],
   "source": [
    "# the quantiles\n",
    "qdep_01 = df_flights['DepDelay'].quantile(0.01)\n",
    "qdep_99 = df_flights['DepDelay'].quantile(0.99)\n",
    "qarr_01 = df_flights['ArrDelay'].quantile(0.01)\n",
    "qarr_99 = df_flights['ArrDelay'].quantile(0.99)\n"
   ]
  },
  {
   "cell_type": "code",
   "execution_count": null,
   "metadata": {},
   "outputs": [],
   "source": [
    "# scatterplot\n",
    "plt.scatter(x = df_flights['DepDelay'], y = df_flights['ArrDelay'], c = df_flights['Cancelled'])\n",
    "# quantile lines\n",
    "plt.axvline(x = qdep_01, color = 'gray', linestyle = 'dashed', linewidth = 2)\n",
    "plt.axvline(x = qdep_99, color = 'gray', linestyle = 'dashed', linewidth = 2)\n",
    "plt.axhline(y = qarr_01, color = 'gray', linestyle = 'dashed', linewidth = 2)\n",
    "plt.axhline(y = qarr_99, color = 'gray', linestyle = 'dashed', linewidth = 2)"
   ]
  },
  {
   "cell_type": "code",
   "execution_count": null,
   "metadata": {},
   "outputs": [],
   "source": [
    "To clean the data, I will remove the cancelled flights and everything outside the 1% and 99% quantiles of **DepDelay** and **ArrDelay**."
   ]
  },
  {
   "cell_type": "code",
   "execution_count": null,
   "metadata": {},
   "outputs": [],
   "source": [
    "# remove cancelled flights\n",
    "flights = df_flights[df_flights['Cancelled'] == 0]\n",
    "\n",
    "# remove outside quantile area\n",
    "flights = flights[flights['DepDelay'] > qdep_01][flights['DepDelay'] < qdep_99][flights['ArrDelay'] > qarr_01][flights['ArrDelay'] < qarr_99]\n",
    "\n",
    "# same scatterplot for cleaned data\n",
    "plt.scatter(x =  flights['DepDelay'], y =  flights['ArrDelay'])\n"
   ]
  },
  {
   "source": [
    "## Step 2: Explore"
   ],
   "cell_type": "markdown",
   "metadata": {}
  },
  {
   "source": [
    "Now, let's see de distributions and statistics of **DepDelay** and **ArrDelay** of the cleaned data."
   ],
   "cell_type": "markdown",
   "metadata": {}
  },
  {
   "cell_type": "code",
   "execution_count": null,
   "metadata": {},
   "outputs": [],
   "source": [
    "print_stats(flights['DepDelay'])"
   ]
  },
  {
   "cell_type": "code",
   "execution_count": null,
   "metadata": {},
   "outputs": [],
   "source": [
    "print_stats(flights['ArrDelay'])"
   ]
  },
  {
   "source": [
    "- Use statistics, aggregate functions, and visualizations to answer the following questions:\n",
    "        - *What are the average (mean) departure and arrival delays?*\n",
    "        - *How do the carriers compare in terms of arrival delay performance?*\n",
    "        - *Is there a noticable difference in arrival delays for different days of the week?*\n",
    "        - *Which departure airport has the highest average departure delay?*\n",
    "        - *Do **late** departures tend to result in longer arrival delays than on-time departures?*\n",
    "        - *Which route (from origin airport to destination airport) has the most **late** arrivals?*\n",
    "        - *Which route has the highest average arrival delay?*"
   ],
   "cell_type": "code",
   "metadata": {},
   "execution_count": null,
   "outputs": []
  },
  {
   "source": [
    "What are the average (mean) departure and arrival delays?"
   ],
   "cell_type": "markdown",
   "metadata": {}
  },
  {
   "cell_type": "code",
   "execution_count": null,
   "metadata": {},
   "outputs": [],
   "source": [
    "flights[['DepDelay','ArrDelay']].mean()"
   ]
  },
  {
   "source": [
    "How do the carriers compare in terms of arrival delay performance?"
   ],
   "cell_type": "markdown",
   "metadata": {}
  },
  {
   "cell_type": "code",
   "execution_count": null,
   "metadata": {},
   "outputs": [],
   "source": [
    "flights.groupby('Carrier')[['DepDelay','ArrDelay']].describe()"
   ]
  },
  {
   "cell_type": "code",
   "execution_count": null,
   "metadata": {},
   "outputs": [],
   "source": [
    "flights.boxplot(column ='DepDelay', vert = False, by = 'Carrier', figsize=(15,8))"
   ]
  },
  {
   "cell_type": "code",
   "execution_count": null,
   "metadata": {},
   "outputs": [],
   "source": [
    "flights.boxplot(column ='ArrDelay', vert = False, by = 'Carrier', figsize=(15, 8))"
   ]
  },
  {
   "source": [
    "Is there a noticable difference in arrival delays for different days of the week?"
   ],
   "cell_type": "markdown",
   "metadata": {}
  },
  {
   "cell_type": "code",
   "execution_count": null,
   "metadata": {},
   "outputs": [],
   "source": [
    "flights.groupby('DayOfWeek')['ArrDelay'].describe()"
   ]
  },
  {
   "cell_type": "code",
   "execution_count": null,
   "metadata": {},
   "outputs": [],
   "source": [
    "flights.boxplot(column ='ArrDelay', vert = False, by = 'DayOfWeek', figsize=(15,8))"
   ]
  },
  {
   "source": [
    "Which departure airport has the highest average departure delay?"
   ],
   "cell_type": "markdown",
   "metadata": {}
  },
  {
   "cell_type": "code",
   "execution_count": null,
   "metadata": {},
   "outputs": [],
   "source": [
    "grouped = flights.groupby('OriginAirportName')['DepDelay'].mean()\n",
    "depdelay_means = pd.DataFrame(grouped).sort_values('DepDelay', ascending = False)\n",
    "depdelay_means "
   ]
  },
  {
   "source": [
    "That would be *Chicago Midway International*."
   ],
   "cell_type": "markdown",
   "metadata": {}
  },
  {
   "cell_type": "code",
   "execution_count": null,
   "metadata": {},
   "outputs": [],
   "source": [
    "# barchart\n",
    "\n",
    "#depdelay_means.plot.bar(x='OriginAirportName', y='DepDelay', color='teal', figsize=(16,6))\n",
    "depdelay_means.plot(kind = \"bar\", figsize=(12,12))"
   ]
  },
  {
   "source": [
    "Do **late** departures tend to result in longer arrival delays than on-time "
   ],
   "cell_type": "markdown",
   "metadata": {}
  },
  {
   "cell_type": "code",
   "execution_count": null,
   "metadata": {},
   "outputs": [],
   "source": [
    "plt.scatter(x =  flights['DepDelay'], y =  flights['ArrDelay'])"
   ]
  },
  {
   "cell_type": "code",
   "execution_count": null,
   "metadata": {},
   "outputs": [],
   "source": [
    "corr = np.corrcoef( flights['DepDelay'],   flights['ArrDelay'])[0,1]\n",
    "corr"
   ]
  },
  {
   "cell_type": "code",
   "execution_count": null,
   "metadata": {},
   "outputs": [],
   "source": [
    "flights.boxplot(column='ArrDelay', by='DepDel15', figsize=(12,12))"
   ]
  },
  {
   "source": [
    "Not always, but yes. There is a positive correlation."
   ],
   "cell_type": "code",
   "metadata": {},
   "execution_count": null,
   "outputs": []
  },
  {
   "source": [
    "Which route (from origin airport to destination airport) has the most **late** arrivals?*  "
   ],
   "cell_type": "markdown",
   "metadata": {}
  },
  {
   "cell_type": "code",
   "execution_count": null,
   "metadata": {},
   "outputs": [],
   "source": [
    "routes = flights.groupby(['OriginAirportName', 'DestAirportName'])['ArrDel15'].sum()\n",
    "route_lates = pd.DataFrame(routes).sort_values('ArrDel15', ascending = False)\n",
    "route_lates\n"
   ]
  },
  {
   "source": [
    "From *Los Angeles International* to *San Francisco International*"
   ],
   "cell_type": "markdown",
   "metadata": {}
  },
  {
   "source": [
    "Which route has the highest average arrival delay?"
   ],
   "cell_type": "markdown",
   "metadata": {}
  },
  {
   "cell_type": "code",
   "execution_count": null,
   "metadata": {},
   "outputs": [],
   "source": [
    "routesd = flights.groupby(['OriginAirportName', 'DestAirportName'])['ArrDelay'].mean()\n",
    "route_latesd = pd.DataFrame(routesd).sort_values('ArrDelay', ascending = False)\n",
    "route_latesd"
   ]
  },
  {
   "source": [
    "From *Pittsburgh International* to *Raleigh-Durham International*"
   ],
   "cell_type": "markdown",
   "metadata": {}
  }
 ],
 "metadata": {
  "kernelspec": {
   "name": "python3",
   "display_name": "Python 3.9.1 64-bit",
   "metadata": {
    "interpreter": {
     "hash": "80cda23985713241bfc87d9239e0ce890d23031fd0492ad4e1ef600f8737fe63"
    }
   }
  },
  "language_info": {
   "codemirror_mode": {
    "name": "ipython",
    "version": 3
   },
   "file_extension": ".py",
   "mimetype": "text/x-python",
   "name": "python",
   "nbconvert_exporter": "python",
   "pygments_lexer": "ipython3",
   "version": "3.9.1-final"
  }
 },
 "nbformat": 4,
 "nbformat_minor": 4
}